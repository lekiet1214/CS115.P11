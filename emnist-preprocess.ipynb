{
 "cells": [
  {
   "cell_type": "code",
   "execution_count": 3,
   "id": "39491d6c",
   "metadata": {
    "execution": {
     "iopub.execute_input": "2024-12-28T02:59:29.944634Z",
     "iopub.status.busy": "2024-12-28T02:59:29.944163Z",
     "iopub.status.idle": "2024-12-28T02:59:30.317951Z",
     "shell.execute_reply": "2024-12-28T02:59:30.316875Z"
    },
    "papermill": {
     "duration": 0.384157,
     "end_time": "2024-12-28T02:59:30.319838",
     "exception": false,
     "start_time": "2024-12-28T02:59:29.935681",
     "status": "completed"
    },
    "tags": []
   },
   "outputs": [],
   "source": [
    "import numpy as np\n",
    "import pandas as pd\n",
    "import matplotlib.pyplot as plt"
   ]
  },
  {
   "cell_type": "code",
   "execution_count": 2,
   "id": "a79e88cb",
   "metadata": {
    "execution": {
     "iopub.execute_input": "2024-12-28T02:59:30.334876Z",
     "iopub.status.busy": "2024-12-28T02:59:30.334420Z",
     "iopub.status.idle": "2024-12-28T03:00:33.802662Z",
     "shell.execute_reply": "2024-12-28T03:00:33.801208Z"
    },
    "papermill": {
     "duration": 63.478676,
     "end_time": "2024-12-28T03:00:33.805284",
     "exception": false,
     "start_time": "2024-12-28T02:59:30.326608",
     "status": "completed"
    },
    "tags": []
   },
   "outputs": [],
   "source": [
    "df = pd.read_csv(\"./emnist-byclass-train.csv\", header=None)"
   ]
  },
  {
   "cell_type": "code",
   "execution_count": null,
   "id": "342cae22",
   "metadata": {
    "execution": {
     "iopub.execute_input": "2024-12-28T03:00:33.825214Z",
     "iopub.status.busy": "2024-12-28T03:00:33.824801Z",
     "iopub.status.idle": "2024-12-28T03:00:33.832705Z",
     "shell.execute_reply": "2024-12-28T03:00:33.831543Z"
    },
    "papermill": {
     "duration": 0.017305,
     "end_time": "2024-12-28T03:00:33.834768",
     "exception": false,
     "start_time": "2024-12-28T03:00:33.817463",
     "status": "completed"
    },
    "tags": []
   },
   "outputs": [],
   "source": [
    "df.shape"
   ]
  },
  {
   "cell_type": "code",
   "execution_count": null,
   "id": "d2cce689",
   "metadata": {
    "execution": {
     "iopub.execute_input": "2024-12-28T03:00:33.849629Z",
     "iopub.status.busy": "2024-12-28T03:00:33.848949Z",
     "iopub.status.idle": "2024-12-28T03:00:42.907458Z",
     "shell.execute_reply": "2024-12-28T03:00:42.906296Z"
    },
    "papermill": {
     "duration": 9.067856,
     "end_time": "2024-12-28T03:00:42.909405",
     "exception": false,
     "start_time": "2024-12-28T03:00:33.841549",
     "status": "completed"
    },
    "tags": []
   },
   "outputs": [],
   "source": [
    "test_df = pd.read_csv(\"./emnist-byclass-test.csv\", header=None)"
   ]
  },
  {
   "cell_type": "code",
   "execution_count": 5,
   "id": "5f8feecd",
   "metadata": {
    "execution": {
     "iopub.execute_input": "2024-12-28T03:00:42.923639Z",
     "iopub.status.busy": "2024-12-28T03:00:42.923285Z",
     "iopub.status.idle": "2024-12-28T03:00:44.620984Z",
     "shell.execute_reply": "2024-12-28T03:00:44.619911Z"
    },
    "papermill": {
     "duration": 1.707013,
     "end_time": "2024-12-28T03:00:44.622970",
     "exception": false,
     "start_time": "2024-12-28T03:00:42.915957",
     "status": "completed"
    },
    "tags": []
   },
   "outputs": [],
   "source": [
    "train_df = pd.concat([df, test_df], axis=0)"
   ]
  },
  {
   "cell_type": "code",
   "execution_count": 6,
   "id": "905aa67c",
   "metadata": {
    "execution": {
     "iopub.execute_input": "2024-12-28T03:00:44.637081Z",
     "iopub.status.busy": "2024-12-28T03:00:44.636695Z",
     "iopub.status.idle": "2024-12-28T03:00:44.651539Z",
     "shell.execute_reply": "2024-12-28T03:00:44.650655Z"
    },
    "papermill": {
     "duration": 0.023769,
     "end_time": "2024-12-28T03:00:44.653283",
     "exception": false,
     "start_time": "2024-12-28T03:00:44.629514",
     "status": "completed"
    },
    "tags": []
   },
   "outputs": [],
   "source": [
    "del df\n",
    "del test_df"
   ]
  },
  {
   "cell_type": "code",
   "execution_count": 7,
   "id": "c2592573",
   "metadata": {
    "execution": {
     "iopub.execute_input": "2024-12-28T03:00:44.667498Z",
     "iopub.status.busy": "2024-12-28T03:00:44.667151Z",
     "iopub.status.idle": "2024-12-28T03:01:03.041904Z",
     "shell.execute_reply": "2024-12-28T03:01:03.040913Z"
    },
    "papermill": {
     "duration": 18.384102,
     "end_time": "2024-12-28T03:01:03.043908",
     "exception": false,
     "start_time": "2024-12-28T03:00:44.659806",
     "status": "completed"
    },
    "tags": []
   },
   "outputs": [],
   "source": [
    "train_df = train_df.drop_duplicates()"
   ]
  },
  {
   "cell_type": "code",
   "execution_count": null,
   "id": "acfb4822",
   "metadata": {
    "execution": {
     "iopub.execute_input": "2024-12-28T03:01:03.058241Z",
     "iopub.status.busy": "2024-12-28T03:01:03.057788Z",
     "iopub.status.idle": "2024-12-28T03:01:03.063381Z",
     "shell.execute_reply": "2024-12-28T03:01:03.062431Z"
    },
    "papermill": {
     "duration": 0.014347,
     "end_time": "2024-12-28T03:01:03.064983",
     "exception": false,
     "start_time": "2024-12-28T03:01:03.050636",
     "status": "completed"
    },
    "tags": []
   },
   "outputs": [],
   "source": [
    "train_df.shape"
   ]
  },
  {
   "cell_type": "code",
   "execution_count": null,
   "id": "4a56b8cf",
   "metadata": {
    "execution": {
     "iopub.execute_input": "2024-12-28T03:01:03.079286Z",
     "iopub.status.busy": "2024-12-28T03:01:03.078873Z",
     "iopub.status.idle": "2024-12-28T03:01:03.086339Z",
     "shell.execute_reply": "2024-12-28T03:01:03.085143Z"
    },
    "papermill": {
     "duration": 0.016288,
     "end_time": "2024-12-28T03:01:03.087834",
     "exception": false,
     "start_time": "2024-12-28T03:01:03.071546",
     "status": "completed"
    },
    "tags": []
   },
   "outputs": [],
   "source": [
    "train_df.columns"
   ]
  },
  {
   "cell_type": "code",
   "execution_count": null,
   "id": "9655edad",
   "metadata": {
    "execution": {
     "iopub.execute_input": "2024-12-28T03:01:03.102834Z",
     "iopub.status.busy": "2024-12-28T03:01:03.102465Z",
     "iopub.status.idle": "2024-12-28T03:01:03.121694Z",
     "shell.execute_reply": "2024-12-28T03:01:03.120588Z"
    },
    "papermill": {
     "duration": 0.029137,
     "end_time": "2024-12-28T03:01:03.123573",
     "exception": false,
     "start_time": "2024-12-28T03:01:03.094436",
     "status": "completed"
    },
    "tags": []
   },
   "outputs": [],
   "source": [
    "train_df.head()"
   ]
  },
  {
   "cell_type": "code",
   "execution_count": 11,
   "id": "481abf5f",
   "metadata": {
    "execution": {
     "iopub.execute_input": "2024-12-28T03:01:03.138598Z",
     "iopub.status.busy": "2024-12-28T03:01:03.138230Z",
     "iopub.status.idle": "2024-12-28T03:01:03.143244Z",
     "shell.execute_reply": "2024-12-28T03:01:03.142112Z"
    },
    "papermill": {
     "duration": 0.014541,
     "end_time": "2024-12-28T03:01:03.145119",
     "exception": false,
     "start_time": "2024-12-28T03:01:03.130578",
     "status": "completed"
    },
    "tags": []
   },
   "outputs": [],
   "source": [
    "images = train_df.iloc[:, 1:].values\n",
    "labels = train_df.iloc[:, 0].values\n",
    "del train_df"
   ]
  },
  {
   "cell_type": "code",
   "execution_count": 12,
   "id": "de9b0556",
   "metadata": {
    "execution": {
     "iopub.execute_input": "2024-12-28T03:01:03.161093Z",
     "iopub.status.busy": "2024-12-28T03:01:03.160645Z",
     "iopub.status.idle": "2024-12-28T03:01:03.165524Z",
     "shell.execute_reply": "2024-12-28T03:01:03.164260Z"
    },
    "papermill": {
     "duration": 0.014713,
     "end_time": "2024-12-28T03:01:03.167323",
     "exception": false,
     "start_time": "2024-12-28T03:01:03.152610",
     "status": "completed"
    },
    "tags": []
   },
   "outputs": [],
   "source": [
    "def plot_image(image):\n",
    "    plt.imshow(image.reshape(28, 28), cmap=\"gray\")\n",
    "    plt.axis(\"off\")\n",
    "    plt.show()"
   ]
  },
  {
   "cell_type": "code",
   "execution_count": null,
   "id": "73f23b85",
   "metadata": {
    "execution": {
     "iopub.execute_input": "2024-12-28T03:01:03.182290Z",
     "iopub.status.busy": "2024-12-28T03:01:03.181874Z",
     "iopub.status.idle": "2024-12-28T03:01:03.278727Z",
     "shell.execute_reply": "2024-12-28T03:01:03.277484Z"
    },
    "papermill": {
     "duration": 0.10677,
     "end_time": "2024-12-28T03:01:03.280996",
     "exception": false,
     "start_time": "2024-12-28T03:01:03.174226",
     "status": "completed"
    },
    "tags": []
   },
   "outputs": [],
   "source": [
    "plot_image(images[0])"
   ]
  },
  {
   "cell_type": "code",
   "execution_count": null,
   "id": "dca097ae",
   "metadata": {
    "execution": {
     "iopub.execute_input": "2024-12-28T03:01:03.310279Z",
     "iopub.status.busy": "2024-12-28T03:01:03.309721Z",
     "iopub.status.idle": "2024-12-28T03:01:03.316865Z",
     "shell.execute_reply": "2024-12-28T03:01:03.315785Z"
    },
    "papermill": {
     "duration": 0.024097,
     "end_time": "2024-12-28T03:01:03.318868",
     "exception": false,
     "start_time": "2024-12-28T03:01:03.294771",
     "status": "completed"
    },
    "tags": []
   },
   "outputs": [],
   "source": [
    "labels[0]"
   ]
  },
  {
   "cell_type": "code",
   "execution_count": 15,
   "id": "4d177b1d",
   "metadata": {
    "execution": {
     "iopub.execute_input": "2024-12-28T03:01:03.347429Z",
     "iopub.status.busy": "2024-12-28T03:01:03.346928Z",
     "iopub.status.idle": "2024-12-28T03:01:03.363780Z",
     "shell.execute_reply": "2024-12-28T03:01:03.362472Z"
    },
    "papermill": {
     "duration": 0.032976,
     "end_time": "2024-12-28T03:01:03.365680",
     "exception": false,
     "start_time": "2024-12-28T03:01:03.332704",
     "status": "completed"
    },
    "tags": []
   },
   "outputs": [],
   "source": [
    "label_map = {}\n",
    "with open(\"/kaggle/input/emnist/emnist-byclass-mapping.txt\") as f:\n",
    "    for line in f:\n",
    "        (key, val) = line.split()\n",
    "        label_map[int(key)] = int(val)"
   ]
  },
  {
   "cell_type": "code",
   "execution_count": 10,
   "id": "995d7dd3",
   "metadata": {
    "execution": {
     "iopub.execute_input": "2024-12-28T03:01:03.381154Z",
     "iopub.status.busy": "2024-12-28T03:01:03.380698Z",
     "iopub.status.idle": "2024-12-28T03:01:03.385076Z",
     "shell.execute_reply": "2024-12-28T03:01:03.384119Z"
    },
    "papermill": {
     "duration": 0.013843,
     "end_time": "2024-12-28T03:01:03.386683",
     "exception": false,
     "start_time": "2024-12-28T03:01:03.372840",
     "status": "completed"
    },
    "tags": []
   },
   "outputs": [],
   "source": [
    "label_map = {k: v for k, v in label_map.items()}"
   ]
  },
  {
   "cell_type": "code",
   "execution_count": 17,
   "id": "7b026a29",
   "metadata": {
    "execution": {
     "iopub.execute_input": "2024-12-28T03:01:03.402080Z",
     "iopub.status.busy": "2024-12-28T03:01:03.401687Z",
     "iopub.status.idle": "2024-12-28T03:01:03.406199Z",
     "shell.execute_reply": "2024-12-28T03:01:03.405166Z"
    },
    "papermill": {
     "duration": 0.014334,
     "end_time": "2024-12-28T03:01:03.408114",
     "exception": false,
     "start_time": "2024-12-28T03:01:03.393780",
     "status": "completed"
    },
    "tags": []
   },
   "outputs": [],
   "source": [
    "# label_map to character\n",
    "label_map = {k: chr(v) for k, v in label_map.items()}"
   ]
  },
  {
   "cell_type": "code",
   "execution_count": null,
   "id": "490104ef",
   "metadata": {},
   "outputs": [],
   "source": [
    "label_map2 = {\n",
    "    0: 48,\n",
    "    1: 49,\n",
    "    2: 50,\n",
    "    3: 51,\n",
    "    4: 52,\n",
    "    5: 53,\n",
    "    6: 54,\n",
    "    7: 55,\n",
    "    8: 56,\n",
    "    9: 57,\n",
    "    10: 65,\n",
    "    11: 66,\n",
    "    12: 67,\n",
    "    13: 68,\n",
    "    14: 69,\n",
    "    15: 70,\n",
    "    16: 71,\n",
    "    17: 72,\n",
    "    18: 73,\n",
    "    19: 74,\n",
    "    20: 75,\n",
    "    21: 76,\n",
    "    22: 77,\n",
    "    23: 78,\n",
    "    24: 79,\n",
    "    25: 80,\n",
    "    26: 81,\n",
    "    27: 82,\n",
    "    28: 83,\n",
    "    29: 84,\n",
    "    30: 85,\n",
    "    31: 86,\n",
    "    32: 87,\n",
    "    33: 88,\n",
    "    34: 89,\n",
    "    35: 90,\n",
    "    36: 97,\n",
    "    37: 98,\n",
    "    38: 100,\n",
    "    39: 101,\n",
    "    40: 102,\n",
    "    41: 103,\n",
    "    42: 104,\n",
    "    43: 110,\n",
    "    44: 113,\n",
    "    45: 114,\n",
    "    46: 116,\n",
    "}"
   ]
  },
  {
   "cell_type": "code",
   "execution_count": null,
   "id": "449ba47c",
   "metadata": {},
   "outputs": [],
   "source": [
    "labels2 = labels"
   ]
  },
  {
   "cell_type": "code",
   "execution_count": null,
   "id": "4480d3a1",
   "metadata": {},
   "outputs": [],
   "source": [
    "labels3 = []\n",
    "for i in range(0, int(labels2.shape[0])):\n",
    "    labels3.append(chr(label_map[labels2[i]]))"
   ]
  },
  {
   "cell_type": "code",
   "execution_count": null,
   "id": "cd52c587",
   "metadata": {},
   "outputs": [],
   "source": [
    "l_l = [\"c\", \"i\", \"j\", \"k\", \"l\", \"m\", \"o\", \"p\", \"s\", \"u\", \"v\", \"w\", \"x\", \"y\", \"z\"]"
   ]
  },
  {
   "cell_type": "code",
   "execution_count": null,
   "id": "20e92106",
   "metadata": {},
   "outputs": [],
   "source": [
    "for i in range(0, int(labels2.shape[0])):\n",
    "    if labels3[i] in l_l:\n",
    "        labels3[i] = labels3[i].upper()"
   ]
  },
  {
   "cell_type": "code",
   "execution_count": null,
   "id": "2ae76bc5",
   "metadata": {},
   "outputs": [],
   "source": [
    "for i in range(0, int(labels2.shape[0])):\n",
    "    labels3[i] = ord(labels3[i])"
   ]
  },
  {
   "cell_type": "code",
   "execution_count": null,
   "id": "23f32e3f",
   "metadata": {},
   "outputs": [],
   "source": [
    "def get_key_by_value(d, value):\n",
    "    for key, val in d.items():\n",
    "        if val == value:\n",
    "            return key\n",
    "    return None"
   ]
  },
  {
   "cell_type": "code",
   "execution_count": null,
   "id": "b9bd4ed8",
   "metadata": {},
   "outputs": [],
   "source": [
    "mapped_array = []\n",
    "for i in range(0, int(labels2.shape[0])):\n",
    "    mapped_array.append(get_key_by_value(label_map2, labels3[i]))"
   ]
  },
  {
   "cell_type": "code",
   "execution_count": null,
   "id": "b9bf93e3",
   "metadata": {},
   "outputs": [],
   "source": [
    "labels = mapped_array"
   ]
  },
  {
   "cell_type": "code",
   "execution_count": 18,
   "id": "76d31675",
   "metadata": {
    "execution": {
     "iopub.execute_input": "2024-12-28T03:01:03.424333Z",
     "iopub.status.busy": "2024-12-28T03:01:03.423932Z",
     "iopub.status.idle": "2024-12-28T03:01:07.811951Z",
     "shell.execute_reply": "2024-12-28T03:01:07.810976Z"
    },
    "papermill": {
     "duration": 4.398409,
     "end_time": "2024-12-28T03:01:07.813800",
     "exception": false,
     "start_time": "2024-12-28T03:01:03.415391",
     "status": "completed"
    },
    "tags": []
   },
   "outputs": [],
   "source": [
    "# rotate images 90 degrees\n",
    "images = np.array([np.transpose(img.reshape(28, 28), axes=(1, 0)) for img in images])"
   ]
  },
  {
   "cell_type": "code",
   "execution_count": null,
   "id": "2c169d9b",
   "metadata": {
    "execution": {
     "iopub.execute_input": "2024-12-28T03:01:07.829264Z",
     "iopub.status.busy": "2024-12-28T03:01:07.828890Z",
     "iopub.status.idle": "2024-12-28T03:01:07.894427Z",
     "shell.execute_reply": "2024-12-28T03:01:07.892975Z"
    },
    "papermill": {
     "duration": 0.07521,
     "end_time": "2024-12-28T03:01:07.896206",
     "exception": false,
     "start_time": "2024-12-28T03:01:07.820996",
     "status": "completed"
    },
    "tags": []
   },
   "outputs": [],
   "source": [
    "plot_image(images[0])"
   ]
  },
  {
   "cell_type": "code",
   "execution_count": null,
   "id": "7011676b",
   "metadata": {
    "execution": {
     "iopub.execute_input": "2024-12-28T03:01:07.912196Z",
     "iopub.status.busy": "2024-12-28T03:01:07.911802Z",
     "iopub.status.idle": "2024-12-28T03:01:08.513173Z",
     "shell.execute_reply": "2024-12-28T03:01:08.512128Z"
    },
    "papermill": {
     "duration": 0.611271,
     "end_time": "2024-12-28T03:01:08.514809",
     "exception": false,
     "start_time": "2024-12-28T03:01:07.903538",
     "status": "completed"
    },
    "tags": []
   },
   "outputs": [],
   "source": [
    "# Class distribution\n",
    "class_distribution = pd.Series(labels).value_counts().sort_index()\n",
    "\n",
    "class_distribution = class_distribution.rename(label_map)\n",
    "\n",
    "class_distribution.plot(kind=\"bar\", figsize=(15, 10))"
   ]
  },
  {
   "cell_type": "code",
   "execution_count": 21,
   "id": "23ed4ec0",
   "metadata": {
    "execution": {
     "iopub.execute_input": "2024-12-28T03:01:08.532509Z",
     "iopub.status.busy": "2024-12-28T03:01:08.532117Z",
     "iopub.status.idle": "2024-12-28T03:01:12.908455Z",
     "shell.execute_reply": "2024-12-28T03:01:12.907310Z"
    },
    "papermill": {
     "duration": 4.387672,
     "end_time": "2024-12-28T03:01:12.910630",
     "exception": false,
     "start_time": "2024-12-28T03:01:08.522958",
     "status": "completed"
    },
    "tags": []
   },
   "outputs": [],
   "source": [
    "from imblearn.under_sampling import RandomUnderSampler\n",
    "\n",
    "rus = RandomUnderSampler(random_state=42)\n",
    "\n",
    "images_reshaped = images.reshape(images.shape[0], 28 * 28)\n",
    "\n",
    "sampled_images_reshaped, sampled_labels = rus.fit_resample(images_reshaped, labels)\n",
    "\n",
    "sampled_images = sampled_images_reshaped.reshape(\n",
    "    sampled_images_reshaped.shape[0], 28, 28\n",
    ")\n",
    "\n",
    "sampled_indices = rus.sample_indices_\n",
    "\n",
    "excluded_indices = np.setdiff1d(np.arange(len(images)), sampled_indices)\n",
    "\n",
    "excluded_images = images[excluded_indices]\n",
    "excluded_labels = labels[excluded_indices]"
   ]
  },
  {
   "cell_type": "code",
   "execution_count": 22,
   "id": "2d7406ed",
   "metadata": {
    "execution": {
     "iopub.execute_input": "2024-12-28T03:01:12.930165Z",
     "iopub.status.busy": "2024-12-28T03:01:12.929556Z",
     "iopub.status.idle": "2024-12-28T03:01:12.935419Z",
     "shell.execute_reply": "2024-12-28T03:01:12.934066Z"
    },
    "papermill": {
     "duration": 0.018436,
     "end_time": "2024-12-28T03:01:12.937254",
     "exception": false,
     "start_time": "2024-12-28T03:01:12.918818",
     "status": "completed"
    },
    "tags": []
   },
   "outputs": [],
   "source": [
    "images = sampled_images\n",
    "labels = sampled_labels\n",
    "test_images = excluded_images\n",
    "test_labels = excluded_labels\n",
    "del (\n",
    "    sampled_images_reshaped,\n",
    "    sampled_labels,\n",
    "    sampled_images,\n",
    "    rus,\n",
    "    sampled_indices,\n",
    "    excluded_indices,\n",
    "    excluded_images,\n",
    "    excluded_labels,\n",
    ")"
   ]
  },
  {
   "cell_type": "code",
   "execution_count": null,
   "id": "92065aac",
   "metadata": {
    "execution": {
     "iopub.execute_input": "2024-12-28T03:01:12.955762Z",
     "iopub.status.busy": "2024-12-28T03:01:12.955386Z",
     "iopub.status.idle": "2024-12-28T03:01:12.961340Z",
     "shell.execute_reply": "2024-12-28T03:01:12.960266Z"
    },
    "papermill": {
     "duration": 0.017213,
     "end_time": "2024-12-28T03:01:12.963094",
     "exception": false,
     "start_time": "2024-12-28T03:01:12.945881",
     "status": "completed"
    },
    "tags": []
   },
   "outputs": [],
   "source": [
    "labels.shape"
   ]
  },
  {
   "cell_type": "code",
   "execution_count": null,
   "id": "5f744b37",
   "metadata": {
    "execution": {
     "iopub.execute_input": "2024-12-28T03:01:12.980911Z",
     "iopub.status.busy": "2024-12-28T03:01:12.980567Z",
     "iopub.status.idle": "2024-12-28T03:01:12.986923Z",
     "shell.execute_reply": "2024-12-28T03:01:12.985620Z"
    },
    "papermill": {
     "duration": 0.017677,
     "end_time": "2024-12-28T03:01:12.988841",
     "exception": false,
     "start_time": "2024-12-28T03:01:12.971164",
     "status": "completed"
    },
    "tags": []
   },
   "outputs": [],
   "source": [
    "images.shape"
   ]
  },
  {
   "cell_type": "markdown",
   "id": "58f10b6e",
   "metadata": {
    "papermill": {
     "duration": 0.007775,
     "end_time": "2024-12-28T03:01:13.004895",
     "exception": false,
     "start_time": "2024-12-28T03:01:12.997120",
     "status": "completed"
    },
    "tags": []
   },
   "source": [
    "# Preprocessing\n"
   ]
  },
  {
   "cell_type": "code",
   "execution_count": 25,
   "id": "f73f6c2e",
   "metadata": {
    "execution": {
     "iopub.execute_input": "2024-12-28T03:01:13.022263Z",
     "iopub.status.busy": "2024-12-28T03:01:13.021871Z",
     "iopub.status.idle": "2024-12-28T03:01:26.200275Z",
     "shell.execute_reply": "2024-12-28T03:01:26.199105Z"
    },
    "papermill": {
     "duration": 13.189381,
     "end_time": "2024-12-28T03:01:26.202271",
     "exception": false,
     "start_time": "2024-12-28T03:01:13.012890",
     "status": "completed"
    },
    "tags": []
   },
   "outputs": [],
   "source": [
    "# Normalization\n",
    "from sklearn.preprocessing import StandardScaler\n",
    "\n",
    "scaler = StandardScaler()\n",
    "scaler.fit(images.reshape(images.shape[0], 28 * 28))\n",
    "images = scaler.transform(images.reshape(images.shape[0], 28 * 28))\n",
    "\n",
    "scaler.fit(test_images.reshape(test_images.shape[0], 28 * 28))\n",
    "test_images = scaler.transform(test_images.reshape(test_images.shape[0], 28 * 28))"
   ]
  },
  {
   "cell_type": "code",
   "execution_count": null,
   "id": "1400d4a2",
   "metadata": {
    "execution": {
     "iopub.execute_input": "2024-12-28T03:01:26.219639Z",
     "iopub.status.busy": "2024-12-28T03:01:26.219268Z",
     "iopub.status.idle": "2024-12-28T03:01:26.281619Z",
     "shell.execute_reply": "2024-12-28T03:01:26.280421Z"
    },
    "papermill": {
     "duration": 0.073183,
     "end_time": "2024-12-28T03:01:26.283566",
     "exception": false,
     "start_time": "2024-12-28T03:01:26.210383",
     "status": "completed"
    },
    "tags": []
   },
   "outputs": [],
   "source": [
    "plot_image(images[0])"
   ]
  },
  {
   "cell_type": "code",
   "execution_count": null,
   "id": "1585508e",
   "metadata": {
    "execution": {
     "iopub.execute_input": "2024-12-28T03:01:26.302746Z",
     "iopub.status.busy": "2024-12-28T03:01:26.302349Z",
     "iopub.status.idle": "2024-12-28T03:01:26.358838Z",
     "shell.execute_reply": "2024-12-28T03:01:26.357867Z"
    },
    "papermill": {
     "duration": 0.067978,
     "end_time": "2024-12-28T03:01:26.360654",
     "exception": false,
     "start_time": "2024-12-28T03:01:26.292676",
     "status": "completed"
    },
    "tags": []
   },
   "outputs": [],
   "source": [
    "plot_image(test_images[0])"
   ]
  },
  {
   "cell_type": "markdown",
   "id": "6b4a627a",
   "metadata": {
    "papermill": {
     "duration": 0.008151,
     "end_time": "2024-12-28T03:01:26.377223",
     "exception": false,
     "start_time": "2024-12-28T03:01:26.369072",
     "status": "completed"
    },
    "tags": []
   },
   "source": [
    "# Augmentation\n"
   ]
  },
  {
   "cell_type": "code",
   "execution_count": 28,
   "id": "33de0e06",
   "metadata": {
    "execution": {
     "iopub.execute_input": "2024-12-28T03:01:26.396124Z",
     "iopub.status.busy": "2024-12-28T03:01:26.395720Z",
     "iopub.status.idle": "2024-12-28T03:01:36.359354Z",
     "shell.execute_reply": "2024-12-28T03:01:36.358200Z"
    },
    "papermill": {
     "duration": 9.975891,
     "end_time": "2024-12-28T03:01:36.361509",
     "exception": false,
     "start_time": "2024-12-28T03:01:26.385618",
     "status": "completed"
    },
    "tags": []
   },
   "outputs": [],
   "source": [
    "# Augmentation\n",
    "from tensorflow.keras.preprocessing.image import ImageDataGenerator\n",
    "\n",
    "datagen = ImageDataGenerator(\n",
    "    rotation_range=10, zoom_range=0.10, width_shift_range=0.1, height_shift_range=0.1\n",
    ")\n",
    "\n",
    "datagen.fit(images.reshape(images.shape[0], 28, 28, 1))"
   ]
  },
  {
   "cell_type": "code",
   "execution_count": null,
   "id": "9bc57fd0",
   "metadata": {
    "execution": {
     "iopub.execute_input": "2024-12-28T03:01:36.380457Z",
     "iopub.status.busy": "2024-12-28T03:01:36.379783Z",
     "iopub.status.idle": "2024-12-28T03:03:37.163348Z",
     "shell.execute_reply": "2024-12-28T03:03:37.162158Z"
    },
    "papermill": {
     "duration": 120.802929,
     "end_time": "2024-12-28T03:03:37.173232",
     "exception": false,
     "start_time": "2024-12-28T03:01:36.370303",
     "status": "completed"
    },
    "tags": []
   },
   "outputs": [],
   "source": [
    "num_original_images = images.shape[0]\n",
    "\n",
    "# Set the desired number of augmented images (3 times the original)\n",
    "num_augmented_images = num_original_images * 3\n",
    "\n",
    "augmented_images = []\n",
    "augmented_labels = []\n",
    "\n",
    "# Generate augmented images and labels\n",
    "for batch_images, batch_labels in datagen.flow(\n",
    "    images.reshape(images.shape[0], 28, 28, 1), labels, batch_size=32, shuffle=True\n",
    "):\n",
    "    augmented_images.append(batch_images)\n",
    "    augmented_labels.append(batch_labels)\n",
    "\n",
    "    # Stop once we've reached the desired number of augmented images\n",
    "    if len(augmented_images) * 32 >= num_augmented_images:\n",
    "        break\n",
    "\n",
    "\n",
    "# Concatenate the augmented images and labels into single numpy arrays\n",
    "augmented_images = np.concatenate(augmented_images, axis=0)\n",
    "augmented_labels = np.concatenate(augmented_labels, axis=0)\n",
    "\n",
    "# Check the final number of augmented images and labels\n",
    "print(f\"Total number of augmented images: {augmented_images.shape[0]}\")\n",
    "print(f\"Total number of augmented labels: {augmented_labels.shape[0]}\")"
   ]
  },
  {
   "cell_type": "markdown",
   "id": "e2fd262f",
   "metadata": {
    "papermill": {
     "duration": 0.008729,
     "end_time": "2024-12-28T03:03:37.191262",
     "exception": false,
     "start_time": "2024-12-28T03:03:37.182533",
     "status": "completed"
    },
    "tags": []
   },
   "source": [
    "# Save final data\n"
   ]
  },
  {
   "cell_type": "code",
   "execution_count": 30,
   "id": "df3ad86a",
   "metadata": {
    "execution": {
     "iopub.execute_input": "2024-12-28T03:03:37.211336Z",
     "iopub.status.busy": "2024-12-28T03:03:37.210906Z",
     "iopub.status.idle": "2024-12-28T03:03:54.407382Z",
     "shell.execute_reply": "2024-12-28T03:03:54.406158Z"
    },
    "papermill": {
     "duration": 17.208497,
     "end_time": "2024-12-28T03:03:54.409438",
     "exception": false,
     "start_time": "2024-12-28T03:03:37.200941",
     "status": "completed"
    },
    "tags": []
   },
   "outputs": [],
   "source": [
    "np.save(\"/kaggle/working/aug_img\", augmented_images)\n",
    "np.save(\"/kaggle/working/aug_lab\", augmented_labels)\n",
    "np.save(\"/kaggle/working/images\", images)\n",
    "np.save(\"/kaggle/working/test_images\", test_images)\n",
    "np.save(\"/kaggle/working/labels\", labels)\n",
    "np.save(\"/kaggle/working/test_labels\", test_labels)"
   ]
  }
 ],
 "metadata": {
  "kaggle": {
   "accelerator": "none",
   "dataSources": [
    {
     "datasetId": 7160,
     "sourceId": 10705,
     "sourceType": "datasetVersion"
    }
   ],
   "dockerImageVersionId": 30822,
   "isGpuEnabled": false,
   "isInternetEnabled": true,
   "language": "python",
   "sourceType": "notebook"
  },
  "kernelspec": {
   "display_name": "base",
   "language": "python",
   "name": "python3"
  },
  "language_info": {
   "codemirror_mode": {
    "name": "ipython",
    "version": 3
   },
   "file_extension": ".py",
   "mimetype": "text/x-python",
   "name": "python",
   "nbconvert_exporter": "python",
   "pygments_lexer": "ipython3",
   "version": "3.12.7"
  },
  "papermill": {
   "default_parameters": {},
   "duration": 269.695105,
   "end_time": "2024-12-28T03:03:57.393582",
   "environment_variables": {},
   "exception": null,
   "input_path": "__notebook__.ipynb",
   "output_path": "__notebook__.ipynb",
   "parameters": {},
   "start_time": "2024-12-28T02:59:27.698477",
   "version": "2.6.0"
  }
 },
 "nbformat": 4,
 "nbformat_minor": 5
}
